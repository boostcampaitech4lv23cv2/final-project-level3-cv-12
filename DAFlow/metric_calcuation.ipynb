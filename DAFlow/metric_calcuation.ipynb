{
 "cells": [
  {
   "cell_type": "code",
   "execution_count": 5,
   "metadata": {},
   "outputs": [],
   "source": [
    "from PIL import Image\n",
    "from utils.utils import AverageMeter\n",
    "from utils.metrics import ssim, fid, inception_score\n",
    "import os\n",
    "import torch\n",
    "from torchvision import transforms\n",
    "import time"
   ]
  },
  {
   "cell_type": "code",
   "execution_count": 6,
   "metadata": {},
   "outputs": [],
   "source": [
    "input_dir = '/opt/ml/data/dress_code/lower_body/images'         # 013563_0.jpg\n",
    "output_dir = '/opt/ml/final-project-level3-cv-12/DAFlow/results/lower_test_pair/vis_viton_out'     # 050192_0.jpg"
   ]
  },
  {
   "cell_type": "code",
   "execution_count": 29,
   "metadata": {},
   "outputs": [
    {
     "name": "stdout",
     "output_type": "stream",
     "text": [
      "[300/1800] 5.3s -> 31.7s\n",
      "[600/1800] 10.3s -> 30.9s\n",
      "[900/1800] 15.8s -> 31.7s\n",
      "[1200/1800] 20.8s -> 31.2s\n",
      "[1500/1800] 25.2s -> 30.3s\n",
      "\n",
      "SSIM\t0.7803\n",
      "IS\t1.3001\n"
     ]
    }
   ],
   "source": [
    "totensor = transforms.ToTensor()\n",
    "resize = transforms.Resize((512, 384), interpolation=2)\n",
    "#inputs = []       # FID\n",
    "outputs = []\n",
    "metric_ssim = AverageMeter()\n",
    "metric_fid = AverageMeter()\n",
    "\n",
    "# get list\n",
    "names = os.listdir(output_dir)\n",
    "N = len(names)\n",
    "\n",
    "# ssim, fid\n",
    "tall0 = time.time()\n",
    "for i, name in enumerate(names):\n",
    "    tall = time.time()\n",
    "    if i%300==0 and i!=0: print(f\"[{i}/{N}] {tall-tall0:.1f}s -> {(((tall-tall0)/i)*N):.1f}s\")\n",
    "    input = resize(totensor(Image.open(os.path.join(input_dir, name)))).cuda()\n",
    "    output = totensor(Image.open(os.path.join(output_dir, name))).cuda()\n",
    "    #inputs.append(input)   # FID\n",
    "    outputs.append(output)\n",
    "    \n",
    "    metric_ssim.update(ssim(input.unsqueeze(0), output.unsqueeze(0)).item(), n=1)\n",
    "\n",
    "# inputs  = torch.stack(inputs, 0)   # FID\n",
    "outputs = torch.stack(outputs, 0)\n",
    "\n",
    "# metric_fid = fid(inputs, outputs, batch_size=4)   # FID\n",
    "\n",
    "metric_is = inception_score(outputs)\n",
    "\n",
    "print(f\"\\nSSIM\\t{metric_ssim.avg:.4f}\")\n",
    "#print(f\"FID\\t{metric_fid:.4f}\")\n",
    "print(f\"IS\\t{metric_is[0]:.4f}\")\n"
   ]
  },
  {
   "cell_type": "code",
   "execution_count": null,
   "metadata": {},
   "outputs": [],
   "source": []
  }
 ],
 "metadata": {
  "kernelspec": {
   "display_name": "base",
   "language": "python",
   "name": "python3"
  },
  "language_info": {
   "codemirror_mode": {
    "name": "ipython",
    "version": 3
   },
   "file_extension": ".py",
   "mimetype": "text/x-python",
   "name": "python",
   "nbconvert_exporter": "python",
   "pygments_lexer": "ipython3",
   "version": "3.8.5"
  },
  "orig_nbformat": 4,
  "vscode": {
   "interpreter": {
    "hash": "d4d1e4263499bec80672ea0156c357c1ee493ec2b1c70f0acce89fc37c4a6abe"
   }
  }
 },
 "nbformat": 4,
 "nbformat_minor": 2
}
